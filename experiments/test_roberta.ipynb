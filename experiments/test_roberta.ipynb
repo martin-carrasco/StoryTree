{
 "cells": [
  {
   "cell_type": "code",
   "execution_count": 2,
   "metadata": {},
   "outputs": [],
   "source": [
    "import datasets\n",
    "from compare_summary_bert import split_in_sents, eval_score\n",
    "from sentence_transformers import SentenceTransformer\n",
    "from tqdm import tqdm\n",
    "import evaluate\n",
    "import pandas as pd"
   ]
  },
  {
   "cell_type": "code",
   "execution_count": 4,
   "metadata": {},
   "outputs": [],
   "source": [
    "\n",
    "cnn_data = datasets.load_dataset(\"cnn_dailymail\", '2.0.0') #,cache_dir='/var/scratch/mca305')\n",
    "cnn_data_test = cnn_data['test']\n",
    "cnn_data_validation = cnn_data['validation']\n",
    "small_DS = datasets.load_from_disk(\"data_parsed_roberta_edus\")\n",
    "small_DS = cnn_data_validation.filter(lambda x: x['id'] in small_DS['article_id'])\n",
    "small_DS = small_DS.map(split_in_sents, remove_columns=small_DS.column_names, batched=True)"
   ]
  },
  {
   "cell_type": "code",
   "execution_count": 9,
   "metadata": {},
   "outputs": [],
   "source": [
    "model = SentenceTransformer('sentence-transformers/all-roberta-large-v1')\n",
    "a = model.encode(small_DS['sentence'][0])\n",
    "#ds = small_DS.map(lambda x: model.encode(x['sentence']))\n",
    "#ds.set_format(type='torch', columns=['sentence', 'highlight', 'article_id'])"
   ]
  },
  {
   "cell_type": "code",
   "execution_count": 11,
   "metadata": {},
   "outputs": [
    {
     "data": {
      "text/plain": [
       "1024"
      ]
     },
     "execution_count": 11,
     "metadata": {},
     "output_type": "execute_result"
    }
   ],
   "source": [
    "len(a)"
   ]
  },
  {
   "cell_type": "code",
   "execution_count": null,
   "metadata": {},
   "outputs": [],
   "source": [
    "\n",
    "rouge = evaluate.load('rouge')\n",
    "eval_methods = {\n",
    "    'Method': [],\n",
    "    'Summary': [],\n",
    "    'Label': [],\n",
    "    'rouge1': [],\n",
    "    'rouge2': [],\n",
    "    'rougeL': [],\n",
    "    'rougeLsum': []\n",
    "}"
   ]
  },
  {
   "cell_type": "code",
   "execution_count": null,
   "metadata": {},
   "outputs": [],
   "source": [
    "\n",
    "unique_ids = list(set(small_DS['article_id']))\n",
    "cnt = 0\n",
    "for u_id in tqdm(unique_ids):\n",
    "    current_ds = small_DS.filter(lambda x: x['article_id'] == u_id)\n",
    "\n",
    "    sents = current_ds['sentence']\n",
    "    summary = current_ds['highlight'][0]\n",
    "\n",
    "    # Eval scores BERT\n",
    "    k_center, stl_k_center, random_e, k_center_trim, summaries = eval_score(sents, current_ds['embeddings'], summary, rouge)\n",
    "\n",
    "    # k_center\n",
    "    eval_methods['Method'].append('K Center')\n",
    "    eval_methods['Summary'].append(summaries[0])\n",
    "    eval_methods['Label'].append(summary)\n",
    "    for k in list(k_center.keys()):\n",
    "        eval_methods[k].append(k_center[k])\n",
    "\n",
    "    # st_k_center\n",
    "    eval_methods['Method'].append('Salient STL')\n",
    "    eval_methods['Summary'].append(summaries[1])\n",
    "    eval_methods['Label'].append(summary)\n",
    "    for k in list(stl_k_center.keys()):\n",
    "        eval_methods[k].append(stl_k_center[k])\n",
    "\n",
    "    # random\n",
    "    eval_methods['Method'].append('Random')\n",
    "    eval_methods['Summary'].append(summaries[2])\n",
    "    eval_methods['Label'].append(summary)\n",
    "    for k in list(random_e.keys()):\n",
    "        eval_methods[k].append(random_e[k])\n",
    "\n",
    "    # K Center Trimmed\n",
    "    eval_methods['Method'].append('K Center STL')\n",
    "    eval_methods['Summary'].append(summaries[3])\n",
    "    eval_methods['Label'].append(summary)\n",
    "    for k in list(k_center_trim.keys()):\n",
    "        eval_methods[k].append(k_center_trim[k])\n",
    "    cnt += 1\n",
    "\n",
    "    ## Eval scores ROBERTA\n",
    "    print(cnt)\n",
    "\n",
    "#df = pd.DataFrame.from_dict(eval_methods)\n",
    "#df.to_csv('scoring_roberta_base_1_st.csv')"
   ]
  }
 ],
 "metadata": {
  "kernelspec": {
   "display_name": "tml",
   "language": "python",
   "name": "python3"
  },
  "language_info": {
   "codemirror_mode": {
    "name": "ipython",
    "version": 3
   },
   "file_extension": ".py",
   "mimetype": "text/x-python",
   "name": "python",
   "nbconvert_exporter": "python",
   "pygments_lexer": "ipython3",
   "version": "3.12.2"
  },
  "orig_nbformat": 4
 },
 "nbformat": 4,
 "nbformat_minor": 2
}
